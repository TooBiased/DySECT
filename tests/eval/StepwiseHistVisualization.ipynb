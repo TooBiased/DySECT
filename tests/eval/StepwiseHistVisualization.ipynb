{
 "cells": [
  {
   "cell_type": "code",
   "execution_count": 1,
   "metadata": {
    "collapsed": false
   },
   "outputs": [],
   "source": [
    "import pandas as pd\n",
    "\n",
    "def load_stepwise_hist(file, col) :\n",
    "    return pd.read_csv(file, sep = '\\\\s+', names = col,\n",
    "                      skiprows = 1, comment = '#', skip_blank_lines = True)\n",
    "\n",
    "columns = [\"lvl\", \"s\", \"n\"]\n",
    "\n",
    "name   = \"../temp_\"\n",
    "suffix = \".hist\"\n",
    "\n",
    "static_data  = load_stepwise_hist(name + \"static\"  + suffix, columns)\n",
    "dynamic_data = load_stepwise_hist(name + \"dynamic\" + suffix, columns)\n",
    "\n",
    "static  = static_data .groupby(['lvl', 's']).mean()\n",
    "dynamic = dynamic_data.groupby(['lvl', 's']).mean()\n"
   ]
  },
  {
   "cell_type": "code",
   "execution_count": 2,
   "metadata": {
    "collapsed": false
   },
   "outputs": [],
   "source": [
    "import matplotlib\n",
    "import numpy as np\n",
    "import matplotlib.pyplot as plt\n",
    "import math\n",
    "%matplotlib inline \n",
    "\n",
    "def plot (ax, data, name) :\n",
    "    ax.plot(data, label=name)\n",
    "    #ax.plot(data['s'], data['n'], label=name)\n",
    "    \n",
    "def plot_t (ax, data, name) :\n",
    "    ax.plot(data['s'], data['n'], label=name, color=(0.9,0.9,0.9))"
   ]
  },
  {
   "cell_type": "code",
   "execution_count": null,
   "metadata": {
    "collapsed": true
   },
   "outputs": [],
   "source": [
    "for tlvl in range(26) :\n",
    "    lvl = tlvl * 10\n",
    "\n",
    "    fig = plt.figure( figsize=(10,4.6) )\n",
    "    ax  = fig.add_axes( [0.1, 0.15, 0.8, 0.8] )\n",
    "\n",
    "    plot(ax, static ['n'][lvl], \"static\")\n",
    "    plot(ax, dynamic['n'][lvl], \"dynamic\")\n",
    "\n",
    "    #ax.set_yscale (\"log\")\n",
    "    ax.set_xlim((0, 60))\n",
    "\n",
    "    ax.legend(loc=0, ncol=2)\n",
    "    ax.set_xlabel('probed cells')\n",
    "    ax.set_ylabel('elements that found spot')\n",
    "\n",
    "    plt.savefig('../plots/lvl/hist_'+str(lvl)+'.pdf')\n",
    "    plt.show()"
   ]
  },
  {
   "cell_type": "code",
   "execution_count": null,
   "metadata": {
    "collapsed": true
   },
   "outputs": [],
   "source": []
  }
 ],
 "metadata": {
  "kernelspec": {
   "display_name": "Python 2",
   "language": "python",
   "name": "python2"
  },
  "language_info": {
   "codemirror_mode": {
    "name": "ipython",
    "version": 2
   },
   "file_extension": ".py",
   "mimetype": "text/x-python",
   "name": "python",
   "nbconvert_exporter": "python",
   "pygments_lexer": "ipython2",
   "version": "2.7.11"
  }
 },
 "nbformat": 4,
 "nbformat_minor": 0
}
