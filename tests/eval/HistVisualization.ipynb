{
 "cells": [
  {
   "cell_type": "code",
   "execution_count": 1,
   "metadata": {
    "collapsed": false
   },
   "outputs": [],
   "source": [
    "# name -> number definitions\n",
    "tl_pool = [64, 256, 2048]\n",
    "bs_pool = [4,8,16]\n",
    "al_pool = [1.1, 1.15, 1.20, 1.25]\n",
    "al_string_pool = [\"1.10\", \"1.15\", \"1.2\", \"1.25\"]\n",
    "cap_pool = [1, 1000000]\n",
    "data_from_index_array = []\n",
    "\n",
    "def build_data_from_index() :\n",
    "    global data_from_index_array\n",
    "    data_from_index_array[:] = []\n",
    "    for tl in tl_pool :\n",
    "        for bs in bs_pool :\n",
    "            for al in range(len(al_pool)) :\n",
    "                for cap in cap_pool :\n",
    "                    name = \"_TL\" + str(tl) + \"_BS\" + str(bs) + \"_al\" + al_string_pool[al] + \"_cap\" + str(cap)\n",
    "                    data_from_index_array.append((name, tl, bs, al_pool[al], cap))\n",
    "\n",
    "def get_index (tl, bsize, alpha, cap) :\n",
    "    temp  = 0\n",
    "    block0 = len(bs_pool) * len(al_pool) * len(cap_pool)\n",
    "    block1 = len(al_pool) * len(cap_pool)\n",
    "    block2 = len(cap_pool)\n",
    "    \n",
    "    for ttl in tl_pool :\n",
    "        if (ttl == tl) :\n",
    "            for tbs in bs_pool :\n",
    "                if (tbs == bsize) :\n",
    "                    for tal in al_pool :\n",
    "                        if (tal == alpha) :\n",
    "                            for tcap in cap_pool :\n",
    "                                if (tcap == cap) :\n",
    "                                    return temp;\n",
    "                                else : temp += 1;\n",
    "                        else : temp += block2;\n",
    "                else : temp += block1;\n",
    "        else : temp += block0;\n",
    "    return 6666666666        \n",
    "    \n",
    "\n",
    "def get_data_from_index( idx ) :\n",
    "    return data_from_index_array[ idx ];\n",
    "\n",
    "def n_tests() :\n",
    "    return len(data_from_index_array)\n"
   ]
  },
  {
   "cell_type": "code",
   "execution_count": 2,
   "metadata": {
    "collapsed": false
   },
   "outputs": [
    {
     "name": "stdout",
     "output_type": "stream",
     "text": [
      "72\n"
     ]
    }
   ],
   "source": [
    "import pandas as pd\n",
    "from os import walk\n",
    "\n",
    "def load_hist(file, col) :\n",
    "    return pd.read_csv(file, sep = '\\\\s+', names = col,\n",
    "                      skiprows = 1, comment = '#', skip_blank_lines = True)\n",
    "\n",
    "columns = [\"steps\", \"elements\"]\n",
    "\n",
    "folder = \"../out/\"\n",
    "suffix = \".hist\"\n",
    "\n",
    "build_data_from_index()\n",
    "print n_tests()\n",
    "\n",
    "bfs = []\n",
    "rwalk = []\n",
    "rwalkcyc = []\n",
    "\n",
    "for idx in range(n_tests()) :\n",
    "    name = get_data_from_index( idx )[0]\n",
    "    bfs.append(load_hist(folder+\"bfs\"+name+suffix, columns))\n",
    "    rwalk.append(load_hist(folder+\"rwalk\"+name+suffix, columns))\n",
    "    rwalkcyc.append(load_hist(folder+\"rwalkcyc\"+name+suffix, columns))\n",
    "  \n",
    "\n",
    "hbfs = []\n",
    "hbfs.append(load_hist(\"../bout/bfs_TL256_BS8_al1.10_cap1.hist\", columns))\n",
    "hbfs.append(load_hist(\"../bout/bfs_TL256_BS8_al1.10_cap10000000.hist\", columns))\n",
    "#for name in f :\n",
    "#    print name\n",
    "#    list.append((name, load_hist(folder+name, columns)))\n",
    "\n",
    "#print list[0]\n",
    "    #print list[0]\n",
    "#print bfs[0]"
   ]
  },
  {
   "cell_type": "code",
   "execution_count": 3,
   "metadata": {
    "collapsed": false
   },
   "outputs": [
    {
     "name": "stdout",
     "output_type": "stream",
     "text": [
      "32 33\n",
      "6241160 330824\n",
      "10.3888525531 4.51410115348\n",
      "227.0 92.0\n"
     ]
    }
   ],
   "source": [
    "idx0 = get_index(256, 8, 1.1, 1)\n",
    "idx1 = get_index(256, 8, 1.1, 1000000)\n",
    "\n",
    "print idx0, idx1\n",
    "\n",
    "tbfs0 = hbfs[0]#bfs[idx0]\n",
    "tbfs1 = hbfs[1]#bfs[idx1]\n",
    "tbfs0['weighted'] = tbfs0['steps'] * tbfs0['elements']\n",
    "tbfs1['weighted'] = tbfs1['steps'] * tbfs1['elements']\n",
    "\n",
    "n0 = tbfs0.sum()['elements']\n",
    "n1 = tbfs1.sum()['elements']\n",
    "print n0, n1\n",
    "\n",
    "avg0 = tbfs0.sum()['weighted']/ float(n0)\n",
    "avg1 = tbfs1.sum()['weighted']/ float(n1)\n",
    "print avg0, avg1\n",
    "\n",
    "fil0 = tbfs0.where(tbfs0['elements'] > 0).max()['steps']\n",
    "fil1 = tbfs1.where(tbfs1['elements'] > 0).max()['steps']\n",
    "print fil0, fil1"
   ]
  },
  {
   "cell_type": "code",
   "execution_count": 4,
   "metadata": {
    "collapsed": true
   },
   "outputs": [],
   "source": [
    "import matplotlib\n",
    "import numpy as np\n",
    "import matplotlib.pyplot as plt\n",
    "import math\n",
    "%matplotlib inline \n",
    "\n",
    "def plot (ax, data, name) :\n",
    "    ax.plot(data['steps'], data['elements'], label=name)\n",
    "    \n",
    "def plot_t (ax, data, name) :\n",
    "    ax.plot(data['steps'], data['lements'], label=name, color=(0.9,0.9,0.9))"
   ]
  },
  {
   "cell_type": "code",
   "execution_count": 8,
   "metadata": {
    "collapsed": false
   },
   "outputs": [
    {
     "data": {
      "image/png": "[encoded data removed]",
      "text/plain": [
       "<matplotlib.figure.Figure at 0x7f5c3e293d50>"
      ]
     },
     "metadata": {},
     "output_type": "display_data"
    }
   ],
   "source": [
    "fig = plt.figure( figsize=(10,4.6) )\n",
    "ax  = fig.add_axes( [0.1, 0.15, 0.8, 0.8] )\n",
    "\n",
    "for idx in range(n_tests()) :\n",
    "    (name, tl, bs, al, cap) = get_data_from_index( idx )\n",
    "    if ( (al == 1.2) & (bs == 16) & (tl == 2048) & (cap == 1)) :\n",
    "        plot(ax, bfs[idx], name)\n",
    "    if ( (al == 1.2) & (bs == 16) & (tl == 2048) & (cap == 1)) :\n",
    "        plot(ax, rwalk[idx], name)\n",
    "    #else :\n",
    "        #plot_t(ax, bfs[idx], '')\n",
    "    \n",
    "ax.set_yscale (\"log\")\n",
    "ax.set_xlim((0, 100))\n",
    "    \n",
    "ax.legend(loc=0, ncol=2)\n",
    "ax.set_xlabel('probed cells')\n",
    "ax.set_ylabel('elements that found spot')\n",
    "\n",
    "plt.show()"
   ]
  },
  {
   "cell_type": "code",
   "execution_count": null,
   "metadata": {
    "collapsed": false
   },
   "outputs": [],
   "source": []
  },
  {
   "cell_type": "code",
   "execution_count": null,
   "metadata": {
    "collapsed": true
   },
   "outputs": [],
   "source": []
  }
 ],
 "metadata": {
  "kernelspec": {
   "display_name": "Python 2",
   "language": "python",
   "name": "python2"
  },
  "language_info": {
   "codemirror_mode": {
    "name": "ipython",
    "version": 2
   },
   "file_extension": ".py",
   "mimetype": "text/x-python",
   "name": "python",
   "nbconvert_exporter": "python",
   "pygments_lexer": "ipython2",
   "version": "2.7.11"
  }
 },
 "nbformat": 4,
 "nbformat_minor": 0
}
