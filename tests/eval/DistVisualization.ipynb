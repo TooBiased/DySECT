{
 "cells": [
  {
   "cell_type": "code",
   "execution_count": 56,
   "metadata": {
    "collapsed": false
   },
   "outputs": [],
   "source": [
    "# name -> number definitionss\n",
    "tl_pool = [64, 256, 2048]\n",
    "bs_pool = [4,8,16]\n",
    "al_pool = [1.1, 1.15, 1.20, 1.25]\n",
    "al_string_pool = [\"1.10\", \"1.15\", \"1.2\", \"1.25\"]\n",
    "cap_pool = [1, 1000000]\n",
    "data_from_index_array = []\n",
    "\n",
    "def build_data_from_index() :\n",
    "    global data_from_index_array\n",
    "    data_from_index_array[:] = []\n",
    "    for bs in bs_pool :\n",
    "        for tl in tl_pool :\n",
    "            for al in range(len(al_pool)) :\n",
    "                for cap in cap_pool :\n",
    "                    name = \"_TL\" + str(tl) + \"_BS\" + str(bs) + \"_al\" + al_string_pool[al] + \"_cap\" + str(cap)\n",
    "                    data_from_index_array.append((name, tl, bs, al_pool[al], cap))\n",
    "\n",
    "def get_index (tl, bsize, alpha, cap) :\n",
    "    temp  = 0\n",
    "    block0 = len(tl_pool) * len(al_pool) * len(cap_pool)\n",
    "    block1 = len(al_pool) * len(cap_pool)\n",
    "    block2 = len(cap_pool)\n",
    "    \n",
    "    for tbs in bs_pool :\n",
    "        if (tbs == bsize) :\n",
    "            for ttl in tl_pool :\n",
    "                if (ttl == tl) :\n",
    "                    for tal in al_pool :\n",
    "                        if (tal == alpha) :\n",
    "                            for tcap in cap_pool :\n",
    "                                if (tcap == cap) :\n",
    "                                    return temp;\n",
    "                                else : temp += 1;\n",
    "                        else : temp += block2;\n",
    "                else : temp += block1;\n",
    "        else : temp += block0;\n",
    "    return 6666666666        \n",
    "    \n",
    "\n",
    "def get_data_from_index( idx ) :\n",
    "    return data_from_index_array[ idx ];\n",
    "\n",
    "def n_tests() :\n",
    "    return len(data_from_index_array)"
   ]
  },
  {
   "cell_type": "code",
   "execution_count": 57,
   "metadata": {
    "collapsed": false
   },
   "outputs": [
    {
     "name": "stdout",
     "output_type": "stream",
     "text": [
      "72\n"
     ]
    }
   ],
   "source": [
    "import pandas as pd\n",
    "from os import walk\n",
    "\n",
    "def load_hist(file, col) :\n",
    "    return pd.read_csv(file, sep = '\\\\s+', names = col,\n",
    "                      skiprows = 1, comment = '#', skip_blank_lines = True)\n",
    "\n",
    "folder = \"../outn/\"\n",
    "suffix = \".dist\"\n",
    "\n",
    "c4  = [\"tab\", \"0\", \"1\", \"2\", \"3\", \"4\", \"used\", \"space\"]\n",
    "c8  = [\"tab\", \"0\", \"1\", \"2\", \"3\", \"4\", \n",
    "       \"5\", \"6\", \"7\", \"8\", \"used\", \"space\"]\n",
    "c16 = [\"tab\", \"0\", \"1\", \"2\", \"3\", \"4\", \n",
    "       \"5\", \"6\", \"7\", \"8\", \"9\", \"10\", \n",
    "       \"11\", \"12\", \"13\", \"14\", \"15\", \"16\", \"used\", \"space\"]\n",
    "\n",
    "\n",
    "\n",
    "build_data_from_index()\n",
    "print n_tests()\n",
    "\n",
    "bfs = []\n",
    "rwalk = []\n",
    "rwalkcyc = []\n",
    "\n",
    "for idx in range(n_tests()) :\n",
    "    (name,tl,bs,al,cap)= get_data_from_index( idx )\n",
    "    columns = []\n",
    "    if (bs == 4)  : columns.extend(c4);\n",
    "    if (bs == 8)  : columns.extend(c8);\n",
    "    if (bs == 16) : columns.extend(c16);\n",
    "    bfs.append(load_hist(folder+\"bfs\"+name+suffix, columns))\n",
    "    rwalk.append(load_hist(folder+\"rwalk\"+name+suffix, columns))\n",
    "    rwalkcyc.append(load_hist(folder+\"rwalkcyc\"+name+suffix, columns))"
   ]
  },
  {
   "cell_type": "code",
   "execution_count": 58,
   "metadata": {
    "collapsed": false
   },
   "outputs": [],
   "source": [
    "cs4  = [\"space\", \"used\", \"4\", \"3\", \"2\", \"1\", \"0\"]\n",
    "cs8  = [\"space\", \"used\", \"8\", \"7\", \"6\", \"5\", \"4\", \"3\", \"2\", \"1\", \"0\"]\n",
    "cs16 = [\"space\", \"used\", \"16\", \"15\", \"14\", \"13\", \"12\", \"11\", \"10\", \"9\", \"8\", \"7\", \"6\", \"5\", \"4\", \"3\", \"2\", \"1\", \"0\"]\n",
    "\n",
    "cc4   = [(1,1,1), (0,1,0), (0,0.8,0), (0,0.5,0), (1,1,0), (1,0,0)]\n",
    "cc8   = [(1,1,1), (0,1,0), (0,0.8,0), (0,0.5,0), (1,1,0), (1,0,0)]\n",
    "cc16  = [(1,1,1), (0,1,0), (0,0.8,0), (0,0.5,0), (1,1,0), (1,0,0)]\n",
    "\n",
    "def get_bs_vectors (idx) :\n",
    "    bs = get_data_from_index(idx)[2]\n",
    "    if (bs == 4) : return (cs4 , cc4);\n",
    "    if (bs == 8) : return (cs8 , cc8);\n",
    "    if (bs == 16): return (cs16, cc16);"
   ]
  },
  {
   "cell_type": "code",
   "execution_count": 59,
   "metadata": {
    "collapsed": false
   },
   "outputs": [],
   "source": [
    "import matplotlib\n",
    "import numpy as np\n",
    "import matplotlib.pyplot as plt\n",
    "import math\n",
    "%matplotlib inline \n",
    "\n",
    "def plot (ax, data, idx, name) :\n",
    "    (sections, colors) = get_bs_vectors(idx);\n",
    "    for (s,c) in zip(sections, colors) :\n",
    "        plt.bar(range(len(data[sections[0]])), data[s], .7, color=c)"
   ]
  },
  {
   "cell_type": "code",
   "execution_count": 60,
   "metadata": {
    "collapsed": false
   },
   "outputs": [
    {
     "name": "stdout",
     "output_type": "stream",
     "text": [
      "8\n"
     ]
    },
    {
     "data": {
      "image/png": "[encoded data removed]",
      "text/plain": [
       "<matplotlib.figure.Figure at 0x7fbc5bd0dd90>"
      ]
     },
     "metadata": {},
     "output_type": "display_data"
    }
   ],
   "source": [
    "fig = plt.figure( figsize=(25,4.6) )\n",
    "ax  = fig.add_axes( [0.1, 0.15, 0.8, 0.8] )\n",
    "\n",
    "idx = get_index(256, 4, 1.1, 1)\n",
    "\n",
    "plot(ax, bfs[idx], idx, \"name\")\n",
    "\n",
    "print idx\n"
   ]
  },
  {
   "cell_type": "code",
   "execution_count": 61,
   "metadata": {
    "collapsed": false
   },
   "outputs": [
    {
     "name": "stdout",
     "output_type": "stream",
     "text": [
      "9\n"
     ]
    },
    {
     "data": {
      "image/png": "[encoded data removed]",
      "text/plain": [
       "<matplotlib.figure.Figure at 0x7fbc5a75a550>"
      ]
     },
     "metadata": {},
     "output_type": "display_data"
    }
   ],
   "source": [
    "fig = plt.figure( figsize=(25,4.6) )\n",
    "ax  = fig.add_axes( [0.1, 0.15, 0.8, 0.8] )\n",
    "\n",
    "idx = get_index(256, 4, 1.1, 1000000)\n",
    "\n",
    "plot(ax, bfs[idx], idx, \"name\")\n",
    "\n",
    "print idx"
   ]
  },
  {
   "cell_type": "code",
   "execution_count": 76,
   "metadata": {
    "collapsed": false
   },
   "outputs": [
    {
     "data": {
      "image/png": "[encoded data removed]",
      "text/plain": [
       "<matplotlib.figure.Figure at 0x7fbc5aae8bd0>"
      ]
     },
     "metadata": {},
     "output_type": "display_data"
    }
   ],
   "source": [
    "fig = plt.figure  (figsize=(5,3))\n",
    "ax  = fig.add_axes([0.1,0.15,0.8,0.8])\n",
    "\n",
    "idx  = get_index(256, 4, 1.1, 1)\n",
    "ax.plot(range(256), bfs[idx][\"space\"])\n",
    "ax.plot(range(256), bfs[idx][\"used\"])\n",
    "idx2 = get_index(256, 4, 1.1, 1000000)\n",
    "ax.plot(range(256), bfs[idx2][\"used\"])\n",
    "\n",
    "ax.set_ylim([0,8300])\n",
    "ax.set_xlim([0,256])\n",
    "\n",
    "plt.savefig(\"../plots/Hist_256_4_110.pdf\")\n",
    "plt.show()"
   ]
  },
  {
   "cell_type": "code",
   "execution_count": null,
   "metadata": {
    "collapsed": true
   },
   "outputs": [],
   "source": []
  },
  {
   "cell_type": "code",
   "execution_count": null,
   "metadata": {
    "collapsed": true
   },
   "outputs": [],
   "source": []
  }
 ],
 "metadata": {
  "kernelspec": {
   "display_name": "Python 2",
   "language": "python",
   "name": "python2"
  },
  "language_info": {
   "codemirror_mode": {
    "name": "ipython",
    "version": 2
   },
   "file_extension": ".py",
   "mimetype": "text/x-python",
   "name": "python",
   "nbconvert_exporter": "python",
   "pygments_lexer": "ipython2",
   "version": "2.7.11"
  }
 },
 "nbformat": 4,
 "nbformat_minor": 0
}
